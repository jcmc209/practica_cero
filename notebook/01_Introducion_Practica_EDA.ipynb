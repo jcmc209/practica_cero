{
 "cells": [
  {
   "cell_type": "code",
   "execution_count": 1,
   "id": "dd458ed0-a637-4bc8-8b3c-3c009f50871c",
   "metadata": {},
   "outputs": [
    {
     "name": "stdout",
     "output_type": "stream",
     "text": [
      "hello\n"
     ]
    }
   ],
   "source": [
    "import sweetviz as sv\n",
    "import pandas as pd\n",
    "\n",
    "# Cargar el dataset\n",
    "df = pd.read_csv('data/loan_test_set.csv')\n",
    "\n",
    "# Generar el reporte\n",
    "report = sv.analyze(df)\n",
    "\n",
    "# Guardar el reporte como un archivo HTML\n",
    "report.show_html('report/loan_test_set_report.html')\n"
   ]
  },
  {
   "cell_type": "code",
   "execution_count": null,
   "id": "9926007e-3b52-40f0-95d1-52b41f7f3a76",
   "metadata": {},
   "outputs": [],
   "source": []
  }
 ],
 "metadata": {
  "kernelspec": {
   "display_name": "Python 3 (ipykernel)",
   "language": "python",
   "name": "python3"
  },
  "language_info": {
   "codemirror_mode": {
    "name": "ipython",
    "version": 3
   },
   "file_extension": ".py",
   "mimetype": "text/x-python",
   "name": "python",
   "nbconvert_exporter": "python",
   "pygments_lexer": "ipython3",
   "version": "3.11.9"
  }
 },
 "nbformat": 4,
 "nbformat_minor": 5
}
